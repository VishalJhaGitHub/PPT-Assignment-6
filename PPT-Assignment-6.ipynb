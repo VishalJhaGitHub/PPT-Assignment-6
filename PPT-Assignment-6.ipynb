{
 "cells": [
  {
   "cell_type": "code",
   "execution_count": 1,
   "id": "0a801b59-846b-4b4e-a357-e0831fd9149a",
   "metadata": {},
   "outputs": [
    {
     "name": "stdout",
     "output_type": "stream",
     "text": [
      "[0, 4, 1, 3, 2]\n"
     ]
    }
   ],
   "source": [
    "#1. A permutation perm of n + 1 integers of all the integers in the range [0, n] can be represented as a string s of length n where:\n",
    "\n",
    "#s[i] == 'I' if perm[i] < perm[i + 1], and\n",
    "#s[i] == 'D' if perm[i] > perm[i + 1].\n",
    "\n",
    "#Given a string s, reconstruct the permutation perm and return it. If there are multiple valid permutations perm, return any of them.\n",
    "\n",
    "#Example 1:\n",
    "\n",
    "#Input: s = \"IDID\"\n",
    "\n",
    "#Output: [0,4,1,3,2]\n",
    "\n",
    "#Ans\n",
    "\n",
    "def reconstruct_permutation(s):\n",
    "    n = len(s)\n",
    "    perm = [0]\n",
    "    current_min = 1\n",
    "    current_max = n\n",
    "    \n",
    "    for i in range(n):\n",
    "        if s[i] == 'I':\n",
    "            perm.append(current_max)\n",
    "            current_max -= 1\n",
    "        else:\n",
    "            perm.append(current_min)\n",
    "            current_min += 1\n",
    "    \n",
    "    return perm\n",
    "\n",
    "# Test the function with the given example\n",
    "s = \"IDID\"\n",
    "result = reconstruct_permutation(s)\n",
    "print(result)"
   ]
  },
  {
   "cell_type": "code",
   "execution_count": 2,
   "id": "8d7974b1-8c07-46fa-b1e9-ff88c8a4c61d",
   "metadata": {},
   "outputs": [
    {
     "name": "stdout",
     "output_type": "stream",
     "text": [
      "True\n"
     ]
    }
   ],
   "source": [
    "#2. You are given an m x n integer matrix matrix with the following two properties:\n",
    "\n",
    "#Each row is sorted in non-decreasing order.\n",
    "#The first integer of each row is greater than the last integer of the previous row.\n",
    "\n",
    "#Given an integer target, return true if target is in matrix or false otherwise.\n",
    "\n",
    "#You must write a solution in O(log(m * n)) time complexity.\n",
    "\n",
    "#Example 1:\n",
    "    \n",
    "#https://pwskills.notion.site/image/https%3A%2F%2Fs3-us-west-2.amazonaws.com%2Fsecure.notion-static.com%2Fe4b0271f-15f0-4744-826b-18500ccfcb75%2FScreenshot_2023-05-29_005303.png?id=77708da2-2859-4622-8f75-4506ac68e59d&table=block&spaceId=6fae2e0f-dedc-48e9-bc59-af2654c78209&width=840&userId=&cache=v2\n",
    "\n",
    "#Input: matrix = [[1,3,5,7],[10,11,16,20],[23,30,34,60]], target = 3\n",
    "\n",
    "#Output: true\n",
    "\n",
    "#Ans\n",
    "\n",
    "def search_matrix(matrix, target):\n",
    "    m, n = len(matrix), len(matrix[0])\n",
    "    left, right = 0, m * n - 1\n",
    "    \n",
    "    while left <= right:\n",
    "        mid = (left + right) // 2\n",
    "        row, col = mid // n, mid % n\n",
    "        if matrix[row][col] == target:\n",
    "            return True\n",
    "        elif matrix[row][col] < target:\n",
    "            left = mid + 1\n",
    "        else:\n",
    "            right = mid - 1\n",
    "    \n",
    "    return False\n",
    "\n",
    "# Test the function with the given example\n",
    "matrix = [[1, 3, 5, 7], [10, 11, 16, 20], [23, 30, 34, 60]]\n",
    "target = 3\n",
    "output = search_matrix(matrix, target)\n",
    "print(output)"
   ]
  },
  {
   "cell_type": "code",
   "execution_count": 3,
   "id": "0cbbe194-5e83-48c6-90b4-53a2f29a4124",
   "metadata": {},
   "outputs": [
    {
     "name": "stdout",
     "output_type": "stream",
     "text": [
      "False\n"
     ]
    }
   ],
   "source": [
    "#3. Given an array of integers arr, return *true if and only if it is a valid mountain array*.\n",
    "\n",
    "#Recall that arr is a mountain array if and only if:\n",
    "\n",
    "#arr.length >= 3\n",
    "#There exists some i with 0 < i < arr.length - 1 such that:\n",
    " #arr[0] < arr[1] < ... < arr[i - 1] < arr[i]\n",
    " #arr[i] > arr[i + 1] > ... > arr[arr.length - 1]\n",
    "    \n",
    "#https://pwskills.notion.site/image/https%3A%2F%2Fs3-us-west-2.amazonaws.com%2Fsecure.notion-static.com%2F5565e778-ac57-4ced-85a2-ccb13268bdf6%2FScreenshot_2023-05-29_005352.png?id=08f0d28d-fd28-4ef9-bcb1-747a150826ff&table=block&spaceId=6fae2e0f-dedc-48e9-bc59-af2654c78209&width=1620&userId=&cache=v2\n",
    "\n",
    "#Example 1:\n",
    "\n",
    "#Input: arr = [2,1]\n",
    "\n",
    "#Output: false\n",
    "\n",
    "#Ans\n",
    "\n",
    "def valid_mountain_array(arr):\n",
    "    n = len(arr)\n",
    "    \n",
    "    if n < 3:\n",
    "        return False\n",
    "\n",
    "    i = 0\n",
    "    # Find the increasing subsequence\n",
    "    while i + 1 < n and arr[i] < arr[i + 1]:\n",
    "        i += 1\n",
    "\n",
    "    # Check if `i` is not the first or last index\n",
    "    if i == 0 or i == n - 1:\n",
    "        return False\n",
    "\n",
    "    # Check if the remaining elements are in decreasing order\n",
    "    while i + 1 < n and arr[i] > arr[i + 1]:\n",
    "        i += 1\n",
    "\n",
    "    return i == n - 1\n",
    "\n",
    "# Test the function with the given example\n",
    "arr = [2, 1]\n",
    "output = valid_mountain_array(arr)\n",
    "print(output)"
   ]
  },
  {
   "cell_type": "code",
   "execution_count": 4,
   "id": "76cba953-f39d-4233-9c04-6b83b616e0f0",
   "metadata": {},
   "outputs": [
    {
     "name": "stdout",
     "output_type": "stream",
     "text": [
      "2\n"
     ]
    }
   ],
   "source": [
    "#4. Given a binary array nums, return the maximum length of a contiguous subarray with an equal number of 0 and 1.\n",
    "\n",
    "#Example 1:\n",
    "\n",
    "#Input: nums = [0,1]\n",
    "\n",
    "#Output: 2\n",
    "\n",
    "#Explanation: [0, 1] is the longest contiguous subarray with an equal number of 0 and 1.\n",
    "\n",
    "#Ans\n",
    "\n",
    "def find_max_length_contiguous_subarray(nums):\n",
    "    sum_to_index = {0: -1}  # Initialize with the sum 0 at index -1\n",
    "    max_length = 0\n",
    "    current_sum = 0\n",
    "\n",
    "    for index, num in enumerate(nums):\n",
    "        current_sum += 1 if num == 1 else -1\n",
    "\n",
    "        if current_sum in sum_to_index:\n",
    "            max_length = max(max_length, index - sum_to_index[current_sum])\n",
    "        else:\n",
    "            sum_to_index[current_sum] = index\n",
    "\n",
    "    return max_length\n",
    "\n",
    "# Test the function with the given example\n",
    "nums = [0, 1]\n",
    "output = find_max_length_contiguous_subarray(nums)\n",
    "print(output) "
   ]
  },
  {
   "cell_type": "code",
   "execution_count": 8,
   "id": "568557fc-60ee-480c-bfed-08c5ab158926",
   "metadata": {},
   "outputs": [
    {
     "name": "stdout",
     "output_type": "stream",
     "text": [
      "40\n"
     ]
    }
   ],
   "source": [
    "#5. The product sum of two equal-length arrays a and b is equal to the sum of a[i] * b[i] for all 0 <= i < a.length (0-indexed).\n",
    "\n",
    "#For example, if a = [1,2,3,4] and b = [5,2,3,1], the product sum would be 1*5 + 2*2 + 3*3 + 4*1 = 22.\n",
    "\n",
    "#Given two arrays nums1 and nums2 of length n, return the minimum product sum if you are allowed to rearrange the order of the elements in nums1.\n",
    "\n",
    "#Example 1:\n",
    "\n",
    "#Input: nums1 = [5,3,4,2], nums2 = [4,2,2,5]\n",
    "\n",
    "#Output: 40\n",
    "\n",
    "#Explanation: We can rearrange nums1 to become [3,5,4,2]. The product sum of [3,5,4,2] and [4,2,2,5] is 3*4 + 5*2 + 4*2 + 2*5 = 40.\n",
    "\n",
    "#Ans\n",
    "\n",
    "def min_product_sum(nums1, nums2):\n",
    "    nums1.sort()\n",
    "    nums2.sort()\n",
    "    min_product_sum = 0\n",
    "    i, j = 0, len(nums2) - 1\n",
    "\n",
    "    while i < len(nums1):\n",
    "        min_product_sum += nums1[i] * nums2[j]\n",
    "        i += 1\n",
    "        j -= 1\n",
    "\n",
    "    return min_product_sum\n",
    "\n",
    "# Test the function with the given example\n",
    "nums1 = [5, 3, 4, 2]\n",
    "nums2 = [4, 2, 2, 5]\n",
    "output = min_product_sum(nums1, nums2)\n",
    "print(output)  "
   ]
  },
  {
   "cell_type": "code",
   "execution_count": 9,
   "id": "ebb5183d-2a4b-49de-a5cd-b2f2a0008061",
   "metadata": {},
   "outputs": [
    {
     "name": "stdout",
     "output_type": "stream",
     "text": [
      "[1, 3, 4]\n"
     ]
    }
   ],
   "source": [
    "#6. An integer array original is transformed into a doubled array changed by appending twice the value of every element in original, and then randomly shuffling the resulting array.\n",
    "\n",
    "#Given an array changed, return original if changed is a doubled array. If changed is not a doubled array, return an empty array. The elements in original may be returned in any order.\n",
    "\n",
    "#Example 1:\n",
    "\n",
    "#Input: changed = [1,3,4,2,6,8]\n",
    "\n",
    "#Output: [1,3,4]\n",
    "\n",
    "#Explanation: One possible original array could be [1,3,4]:\n",
    "\n",
    "#Twice the value of 1 is 1 * 2 = 2.\n",
    "#Twice the value of 3 is 3 * 2 = 6.\n",
    "#Twice the value of 4 is 4 * 2 = 8.\n",
    "\n",
    "#Other original arrays could be [4,3,1] or [3,1,4].\n",
    "\n",
    "def find_original_array(changed):\n",
    "    if len(changed) % 2 != 0:\n",
    "        return []\n",
    "\n",
    "    original = []\n",
    "    num_count = {}\n",
    "\n",
    "    # Count occurrences of each element in the changed array\n",
    "    for num in changed:\n",
    "        num_count[num] = num_count.get(num, 0) + 1\n",
    "\n",
    "    # Iterate through the changed array to find the original elements\n",
    "    for num in sorted(changed):\n",
    "        if num_count.get(num, 0) == 0:\n",
    "            continue\n",
    "        if num_count.get(num * 2, 0) == 0:\n",
    "            return []\n",
    "        original.append(num)\n",
    "        num_count[num] -= 1\n",
    "        num_count[num * 2] -= 1\n",
    "\n",
    "    return original\n",
    "\n",
    "# Test the function with the given example\n",
    "changed = [1, 3, 4, 2, 6, 8]\n",
    "output = find_original_array(changed)\n",
    "print(output) "
   ]
  },
  {
   "cell_type": "code",
   "execution_count": 10,
   "id": "3da20caa-1358-4f34-9f88-e222fc188200",
   "metadata": {},
   "outputs": [
    {
     "name": "stdout",
     "output_type": "stream",
     "text": [
      "[[1, 2, 3], [8, 9, 4], [7, 6, 5]]\n"
     ]
    }
   ],
   "source": [
    "#7. Given a positive integer n, generate an n x n matrix filled with elements from 1 to n2 in spiral order.\n",
    "\n",
    "#Example 1:\n",
    "    \n",
    "#https://pwskills.notion.site/image/https%3A%2F%2Fs3-us-west-2.amazonaws.com%2Fsecure.notion-static.com%2F00c8517f-7682-4e0b-bdd9-ce0e087f3f94%2FScreenshot_2023-05-29_005522.png?id=c3960b73-b433-4aff-94ba-c5b6566f6597&table=block&spaceId=6fae2e0f-dedc-48e9-bc59-af2654c78209&width=670&userId=&cache=v2\n",
    "\n",
    "#Input: n = 3\n",
    "\n",
    "#Output: [[1,2,3],[8,9,4],[7,6,5]]\n",
    "\n",
    "#Ans\n",
    "\n",
    "def generate_spiral_matrix(n):\n",
    "    matrix = [[0 for _ in range(n)] for _ in range(n)]\n",
    "    num = 1\n",
    "    top, bottom, left, right = 0, n - 1, 0, n - 1\n",
    "\n",
    "    while num <= n * n:\n",
    "        # Fill the top row\n",
    "        for i in range(left, right + 1):\n",
    "            matrix[top][i] = num\n",
    "            num += 1\n",
    "        top += 1\n",
    "\n",
    "        # Fill the rightmost column\n",
    "        for i in range(top, bottom + 1):\n",
    "            matrix[i][right] = num\n",
    "            num += 1\n",
    "        right -= 1\n",
    "\n",
    "        # Fill the bottom row (if applicable)\n",
    "        if top <= bottom:\n",
    "            for i in range(right, left - 1, -1):\n",
    "                matrix[bottom][i] = num\n",
    "                num += 1\n",
    "            bottom -= 1\n",
    "\n",
    "        # Fill the leftmost column (if applicable)\n",
    "        if left <= right:\n",
    "            for i in range(bottom, top - 1, -1):\n",
    "                matrix[i][left] = num\n",
    "                num += 1\n",
    "            left += 1\n",
    "\n",
    "    return matrix\n",
    "\n",
    "# Test the function with the given example\n",
    "n = 3\n",
    "output = generate_spiral_matrix(n)\n",
    "print(output)"
   ]
  },
  {
   "cell_type": "code",
   "execution_count": 11,
   "id": "e90e9ed0-f915-4554-9cb1-7563bf5293fe",
   "metadata": {},
   "outputs": [
    {
     "name": "stdout",
     "output_type": "stream",
     "text": [
      "[[7, 0, 0], [-7, 0, 3]]\n"
     ]
    }
   ],
   "source": [
    "#8. Given two sparse matrices mat1 of size m x k and mat2 of size k x n, return the result of mat1 x mat2. You may assume that multiplication is always possible.\n",
    "\n",
    "#Example 1:\n",
    "    \n",
    "#https://pwskills.notion.site/image/https%3A%2F%2Fs3-us-west-2.amazonaws.com%2Fsecure.notion-static.com%2Fdf57e793-12bf-4104-a17b-4e6a88dc7955%2FScreenshot_2023-05-29_005557.png?id=8461bfc4-22e3-478f-8cfe-b09f385aa58a&table=block&spaceId=6fae2e0f-dedc-48e9-bc59-af2654c78209&width=1320&userId=&cache=v2\n",
    "\n",
    "#Input: mat1 = [[1,0,0],[-1,0,3]], mat2 = [[7,0,0],[0,0,0],[0,0,1]]\n",
    "\n",
    "#Output: [[7,0,0],[-7,0,3]]\n",
    "\n",
    "#Ans\n",
    "\n",
    "def multiply_sparse_matrices(mat1, mat2):\n",
    "    result = [[0 for _ in range(len(mat2[0]))] for _ in range(len(mat1))]\n",
    "\n",
    "    for i in range(len(mat1)):\n",
    "        for k in range(len(mat1[0])):\n",
    "            if mat1[i][k] != 0:\n",
    "                for j in range(len(mat2[0])):\n",
    "                    result[i][j] += mat1[i][k] * mat2[k][j]\n",
    "\n",
    "    return result\n",
    "\n",
    "# Test the function with the given example\n",
    "mat1 = [[1, 0, 0], [-1, 0, 3]]\n",
    "mat2 = [[7, 0, 0], [0, 0, 0], [0, 0, 1]]\n",
    "output = multiply_sparse_matrices(mat1, mat2)\n",
    "print(output)"
   ]
  },
  {
   "cell_type": "code",
   "execution_count": null,
   "id": "6a6245b5-bffc-4be9-9cd6-704a89c84d29",
   "metadata": {},
   "outputs": [],
   "source": []
  }
 ],
 "metadata": {
  "kernelspec": {
   "display_name": "Python 3 (ipykernel)",
   "language": "python",
   "name": "python3"
  },
  "language_info": {
   "codemirror_mode": {
    "name": "ipython",
    "version": 3
   },
   "file_extension": ".py",
   "mimetype": "text/x-python",
   "name": "python",
   "nbconvert_exporter": "python",
   "pygments_lexer": "ipython3",
   "version": "3.10.9"
  }
 },
 "nbformat": 4,
 "nbformat_minor": 5
}
